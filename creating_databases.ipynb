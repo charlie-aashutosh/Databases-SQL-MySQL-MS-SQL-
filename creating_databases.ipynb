{
 "cells": [
  {
   "cell_type": "code",
   "execution_count": 7,
   "id": "diagnostic-writer",
   "metadata": {},
   "outputs": [
    {
     "name": "stdout",
     "output_type": "stream",
     "text": [
      "<mysql.connector.connection.MySQLConnection object at 0x000001CF98241688>\n"
     ]
    }
   ],
   "source": [
    "#mysql connector\n",
    "import mysql.connector as sql\n",
    "\n",
    "connection = sql.connect(host=\"localhost\",user=\"root\",password=\"aashu\")\n",
    "\n",
    "print(connection)"
   ]
  },
  {
   "cell_type": "code",
   "execution_count": 4,
   "id": "hawaiian-winning",
   "metadata": {},
   "outputs": [],
   "source": [
    "#creating databases\n",
    "\n",
    "cursor=connection.cursor()\n",
    "\n",
    "cursor.execute(\"CREATE DATABASE mydatabase\")"
   ]
  },
  {
   "cell_type": "code",
   "execution_count": 5,
   "id": "streaming-connectivity",
   "metadata": {},
   "outputs": [],
   "source": [
    "cursor.execute(\"SHOW DATABASES\")"
   ]
  },
  {
   "cell_type": "code",
   "execution_count": 6,
   "id": "considerable-pulse",
   "metadata": {},
   "outputs": [
    {
     "name": "stdout",
     "output_type": "stream",
     "text": [
      "('employeedata',)\n",
      "('information_schema',)\n",
      "('monday_db',)\n",
      "('mydatabase',)\n",
      "('mysql',)\n",
      "('new_practice',)\n",
      "('newdb',)\n",
      "('performance_schema',)\n",
      "('practice',)\n",
      "('practice_db',)\n",
      "('sakila',)\n",
      "('student',)\n",
      "('student_db',)\n",
      "('students',)\n",
      "('sys',)\n",
      "('testfile_db',)\n",
      "('world',)\n"
     ]
    }
   ],
   "source": [
    "for x in cursor: #x is database\n",
    "    print(x)"
   ]
  },
  {
   "cell_type": "code",
   "execution_count": null,
   "id": "daily-retention",
   "metadata": {},
   "outputs": [],
   "source": []
  }
 ],
 "metadata": {
  "kernelspec": {
   "display_name": "Python 3",
   "language": "python",
   "name": "python3"
  },
  "language_info": {
   "codemirror_mode": {
    "name": "ipython",
    "version": 3
   },
   "file_extension": ".py",
   "mimetype": "text/x-python",
   "name": "python",
   "nbconvert_exporter": "python",
   "pygments_lexer": "ipython3",
   "version": "3.7.10"
  }
 },
 "nbformat": 4,
 "nbformat_minor": 5
}
