{
 "cells": [
  {
   "cell_type": "code",
   "execution_count": 1,
   "id": "common-chicken",
   "metadata": {},
   "outputs": [
    {
     "name": "stdout",
     "output_type": "stream",
     "text": [
      "<mysql.connector.connection.MySQLConnection object at 0x000001C517AD2848>\n"
     ]
    }
   ],
   "source": [
    "#creating MySQL Connection\n",
    "import mysql.connector as sql\n",
    "\n",
    "connection=sql.connect(host='localhost',user='root',password='aashu',database='saturday_db')\n",
    "\n",
    "print(connection)"
   ]
  },
  {
   "cell_type": "code",
   "execution_count": 2,
   "id": "forbidden-monkey",
   "metadata": {},
   "outputs": [],
   "source": [
    "#creating tables\n",
    "cursor=connection.cursor()\n",
    "\n",
    "cursor.execute(\"CREATE TABLE data_students(id INT AUTO_INCREMENT PRIMARY KEY, name varchar(20), subject varchar(20))\")"
   ]
  },
  {
   "cell_type": "code",
   "execution_count": null,
   "id": "continued-evolution",
   "metadata": {},
   "outputs": [],
   "source": []
  }
 ],
 "metadata": {
  "kernelspec": {
   "display_name": "Python 3",
   "language": "python",
   "name": "python3"
  },
  "language_info": {
   "codemirror_mode": {
    "name": "ipython",
    "version": 3
   },
   "file_extension": ".py",
   "mimetype": "text/x-python",
   "name": "python",
   "nbconvert_exporter": "python",
   "pygments_lexer": "ipython3",
   "version": "3.7.10"
  }
 },
 "nbformat": 4,
 "nbformat_minor": 5
}
